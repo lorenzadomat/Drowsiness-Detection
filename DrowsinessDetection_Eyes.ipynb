{
 "cells": [
  {
   "cell_type": "code",
   "execution_count": 1,
   "metadata": {
    "pycharm": {
     "name": "#%%\n"
    }
   },
   "outputs": [],
   "source": [
    "import numpy as np\n",
    "import matplotlib.pyplot as plt\n",
    "import os\n",
    "import random\n",
    "import time\n",
    "\n",
    "import tensorflow as tf\n",
    "from keras.utils import to_categorical\n",
    "from keras.models import Sequential\n",
    "from keras.layers import Dense, Dropout, Activation, Flatten, Conv2D, MaxPooling2D\n",
    "\n",
    "import cv2"
   ]
  },
  {
   "cell_type": "code",
   "execution_count": 3,
   "metadata": {
    "pycharm": {
     "name": "#%%\n"
    }
   },
   "outputs": [],
   "source": [
    "# read training images\n",
    "DATADIR = \"./train/\"\n",
    "CATEGORIES = [\"Closed\", \"Open\"]\n",
    "IMG_SIZE = 100\n",
    "\n",
    "training_data = []\n",
    "for category in CATEGORIES:\n",
    "        path = os.path.join(DATADIR, category) # path to eye image directory\n",
    "        class_num = CATEGORIES.index(category)\n",
    "        for img in os.listdir(path):\n",
    "            try:\n",
    "                img_array = cv2.imread(os.path.join(path,img), cv2.IMREAD_GRAYSCALE) # colour is not relevant in this use-case\n",
    "                new_array = cv2.resize(img_array, (IMG_SIZE, IMG_SIZE))\n",
    "                training_data.append([new_array, class_num])\n",
    "            except Exception as e:\n",
    "                pass\n",
    "\n",
    "random.shuffle(training_data)\n",
    "\n",
    "X = [] # features\n",
    "y = [] # labels\n",
    "\n",
    "# label training data\n",
    "for features, label in training_data:\n",
    "    X.append(features)\n",
    "    y.append(label)\n",
    "    \n",
    "X = np.array(X).reshape(-1, IMG_SIZE, IMG_SIZE, 1) # -1 is default, last 1 for grey scale\n",
    "y = np.array(y)\n",
    "y = to_categorical(y)"
   ]
  },
  {
   "cell_type": "code",
   "execution_count": 4,
   "metadata": {
    "pycharm": {
     "name": "#%%\n"
    }
   },
   "outputs": [
    {
     "name": "stderr",
     "output_type": "stream",
     "text": [
      "2022-06-09 09:32:53.451335: I tensorflow/core/common_runtime/pluggable_device/pluggable_device_factory.cc:305] Could not identify NUMA node of platform GPU ID 0, defaulting to 0. Your kernel may not have been built with NUMA support.\n",
      "2022-06-09 09:32:53.451455: I tensorflow/core/common_runtime/pluggable_device/pluggable_device_factory.cc:271] Created TensorFlow device (/job:localhost/replica:0/task:0/device:GPU:0 with 0 MB memory) -> physical PluggableDevice (device: 0, name: METAL, pci bus id: <undefined>)\n"
     ]
    },
    {
     "name": "stdout",
     "output_type": "stream",
     "text": [
      "Metal device set to: Apple M1 Pro\n",
      "Drowsiness_Detection_Model_0_3_conv_16_nodes_1_dense_1654759973\n",
      "Epoch 1/5\n"
     ]
    },
    {
     "name": "stderr",
     "output_type": "stream",
     "text": [
      "2022-06-09 09:32:53.659174: W tensorflow/core/platform/profile_utils/cpu_utils.cc:128] Failed to get CPU frequency: 0 Hz\n"
     ]
    },
    {
     "name": "stdout",
     "output_type": "stream",
     "text": [
      "  1/291 [..............................] - ETA: 2:07 - loss: 0.9733 - accuracy: 0.5000"
     ]
    },
    {
     "name": "stderr",
     "output_type": "stream",
     "text": [
      "2022-06-09 09:32:53.925488: I tensorflow/core/grappler/optimizers/custom_graph_optimizer_registry.cc:113] Plugin optimizer for device_type GPU is enabled.\n"
     ]
    },
    {
     "name": "stdout",
     "output_type": "stream",
     "text": [
      "291/291 [==============================] - ETA: 0s - loss: 0.6700 - accuracy: 0.7838"
     ]
    },
    {
     "name": "stderr",
     "output_type": "stream",
     "text": [
      "2022-06-09 09:32:56.669025: I tensorflow/core/grappler/optimizers/custom_graph_optimizer_registry.cc:113] Plugin optimizer for device_type GPU is enabled.\n"
     ]
    },
    {
     "name": "stdout",
     "output_type": "stream",
     "text": [
      "291/291 [==============================] - 3s 10ms/step - loss: 0.6700 - accuracy: 0.7838 - val_loss: 0.3906 - val_accuracy: 0.9107\n",
      "Epoch 2/5\n",
      "291/291 [==============================] - 2s 8ms/step - loss: 0.2492 - accuracy: 0.9190 - val_loss: 0.2298 - val_accuracy: 0.9072\n",
      "Epoch 3/5\n",
      "291/291 [==============================] - 2s 8ms/step - loss: 0.1575 - accuracy: 0.9500 - val_loss: 0.1668 - val_accuracy: 0.9244\n",
      "Epoch 4/5\n",
      "291/291 [==============================] - 2s 8ms/step - loss: 0.1127 - accuracy: 0.9595 - val_loss: 0.1258 - val_accuracy: 0.9485\n",
      "Epoch 5/5\n",
      "291/291 [==============================] - 2s 8ms/step - loss: 0.1313 - accuracy: 0.9569 - val_loss: 0.1195 - val_accuracy: 0.9622\n",
      "Drowsiness_Detection_Model_1_5_conv_16_nodes_1_dense_1654759986\n",
      "Epoch 1/5\n",
      "  1/291 [..............................] - ETA: 2:01 - loss: 0.8092 - accuracy: 0.7500"
     ]
    },
    {
     "name": "stderr",
     "output_type": "stream",
     "text": [
      "2022-06-09 09:33:06.657566: I tensorflow/core/grappler/optimizers/custom_graph_optimizer_registry.cc:113] Plugin optimizer for device_type GPU is enabled.\n"
     ]
    },
    {
     "name": "stdout",
     "output_type": "stream",
     "text": [
      "291/291 [==============================] - ETA: 0s - loss: 0.3904 - accuracy: 0.8458"
     ]
    },
    {
     "name": "stderr",
     "output_type": "stream",
     "text": [
      "2022-06-09 09:33:09.344680: I tensorflow/core/grappler/optimizers/custom_graph_optimizer_registry.cc:113] Plugin optimizer for device_type GPU is enabled.\n"
     ]
    },
    {
     "name": "stdout",
     "output_type": "stream",
     "text": [
      "291/291 [==============================] - 3s 10ms/step - loss: 0.3904 - accuracy: 0.8458 - val_loss: 0.2579 - val_accuracy: 0.9141\n",
      "Epoch 2/5\n",
      "291/291 [==============================] - 2s 8ms/step - loss: 0.1907 - accuracy: 0.9337 - val_loss: 0.1357 - val_accuracy: 0.9553\n",
      "Epoch 3/5\n",
      "291/291 [==============================] - 3s 9ms/step - loss: 0.1587 - accuracy: 0.9475 - val_loss: 0.1258 - val_accuracy: 0.9588\n",
      "Epoch 4/5\n",
      "291/291 [==============================] - 3s 10ms/step - loss: 0.1354 - accuracy: 0.9526 - val_loss: 0.3028 - val_accuracy: 0.8797\n",
      "Epoch 5/5\n",
      "291/291 [==============================] - 3s 9ms/step - loss: 0.1207 - accuracy: 0.9630 - val_loss: 0.1301 - val_accuracy: 0.9691\n",
      "Drowsiness_Detection_Model_2_3_conv_32_nodes_1_dense_1654760000\n",
      "Epoch 1/5\n",
      "  1/291 [..............................] - ETA: 1:43 - loss: 3.8218 - accuracy: 0.7500"
     ]
    },
    {
     "name": "stderr",
     "output_type": "stream",
     "text": [
      "2022-06-09 09:33:20.588070: I tensorflow/core/grappler/optimizers/custom_graph_optimizer_registry.cc:113] Plugin optimizer for device_type GPU is enabled.\n"
     ]
    },
    {
     "name": "stdout",
     "output_type": "stream",
     "text": [
      "291/291 [==============================] - ETA: 0s - loss: 0.3950 - accuracy: 0.8932"
     ]
    },
    {
     "name": "stderr",
     "output_type": "stream",
     "text": [
      "2022-06-09 09:33:23.392509: I tensorflow/core/grappler/optimizers/custom_graph_optimizer_registry.cc:113] Plugin optimizer for device_type GPU is enabled.\n"
     ]
    },
    {
     "name": "stdout",
     "output_type": "stream",
     "text": [
      "291/291 [==============================] - 3s 10ms/step - loss: 0.3950 - accuracy: 0.8932 - val_loss: 0.6159 - val_accuracy: 0.8729\n",
      "Epoch 2/5\n",
      "291/291 [==============================] - 3s 9ms/step - loss: 0.2324 - accuracy: 0.9225 - val_loss: 0.3586 - val_accuracy: 0.9175\n",
      "Epoch 3/5\n",
      "291/291 [==============================] - 3s 9ms/step - loss: 0.1497 - accuracy: 0.9569 - val_loss: 0.1956 - val_accuracy: 0.9175\n",
      "Epoch 4/5\n",
      "291/291 [==============================] - 3s 9ms/step - loss: 0.1133 - accuracy: 0.9604 - val_loss: 0.1471 - val_accuracy: 0.9725\n",
      "Epoch 5/5\n",
      "291/291 [==============================] - 3s 9ms/step - loss: 0.1323 - accuracy: 0.9569 - val_loss: 0.0969 - val_accuracy: 0.9656\n",
      "Drowsiness_Detection_Model_3_5_conv_32_nodes_1_dense_1654760014\n",
      "Epoch 1/5\n",
      "  1/291 [..............................] - ETA: 2:25 - loss: 1.4035 - accuracy: 0.5000"
     ]
    },
    {
     "name": "stderr",
     "output_type": "stream",
     "text": [
      "2022-06-09 09:33:34.657632: I tensorflow/core/grappler/optimizers/custom_graph_optimizer_registry.cc:113] Plugin optimizer for device_type GPU is enabled.\n"
     ]
    },
    {
     "name": "stdout",
     "output_type": "stream",
     "text": [
      "291/291 [==============================] - ETA: 0s - loss: 0.3127 - accuracy: 0.8820"
     ]
    },
    {
     "name": "stderr",
     "output_type": "stream",
     "text": [
      "2022-06-09 09:33:37.662510: I tensorflow/core/grappler/optimizers/custom_graph_optimizer_registry.cc:113] Plugin optimizer for device_type GPU is enabled.\n"
     ]
    },
    {
     "name": "stdout",
     "output_type": "stream",
     "text": [
      "291/291 [==============================] - 4s 11ms/step - loss: 0.3127 - accuracy: 0.8820 - val_loss: 0.2420 - val_accuracy: 0.9278\n",
      "Epoch 2/5\n",
      "291/291 [==============================] - 3s 10ms/step - loss: 0.1487 - accuracy: 0.9475 - val_loss: 0.0962 - val_accuracy: 0.9691\n",
      "Epoch 3/5\n",
      "291/291 [==============================] - 3s 10ms/step - loss: 0.1452 - accuracy: 0.9526 - val_loss: 0.0770 - val_accuracy: 0.9656\n",
      "Epoch 4/5\n",
      "291/291 [==============================] - 3s 10ms/step - loss: 0.0809 - accuracy: 0.9664 - val_loss: 0.1435 - val_accuracy: 0.9622\n",
      "Epoch 5/5\n",
      "291/291 [==============================] - 3s 10ms/step - loss: 0.1025 - accuracy: 0.9664 - val_loss: 0.0492 - val_accuracy: 0.9863\n"
     ]
    }
   ],
   "source": [
    "batch_size = 64\n",
    "epochs = 20\n",
    "num_classes = 4\n",
    "\n",
    "# compare different architectures\n",
    "dense_layers = [1]\n",
    "layer_sizes = [16, 32]\n",
    "conv_layers = [3, 5]\n",
    "\n",
    "model = [Sequential() for i in range(len(dense_layers)*len(layer_sizes)*len(conv_layers))]\n",
    "idx = 0\n",
    "\n",
    "for dense_layer in dense_layers: \n",
    "    for layer_size in layer_sizes:\n",
    "        for conv_layer in conv_layers:\n",
    "            # analyse model\n",
    "            NAME = 'Drowsiness_Detection_Model_{}_{}_conv_{}_nodes_{}_dense_{}'.format(idx, conv_layer, layer_size, dense_layer, int(time.time()))\n",
    "            print(NAME)\n",
    "\n",
    "            # input layer\n",
    "            model[idx].add(Conv2D(layer_size, (3,3), input_shape = X.shape[1:]))\n",
    "            model[idx].add(Activation('relu'))\n",
    "            model[idx].add(MaxPooling2D(pool_size = (2,2))) \n",
    "            \n",
    "            # hidden convulational layers (='filters')\n",
    "            for l in range(conv_layer-1):\n",
    "                model[idx].add(Conv2D(layer_size, (3,3)))\n",
    "                model[idx].add(Activation('relu'))\n",
    "                model[idx].add(MaxPooling2D(pool_size = (2,2)))\n",
    "            \n",
    "            # hidden dense (=fully connected) layers\n",
    "            model[idx].add(Flatten())\n",
    "            for l in range(dense_layer):\n",
    "                model[idx].add(Dense(layer_size))\n",
    "                model[idx].add(Activation('relu'))\n",
    "\n",
    "            # output layer\n",
    "            model[idx].add(Dense(len(CATEGORIES)))\n",
    "            model[idx].add(Activation('sigmoid'))\n",
    "\n",
    "            model[idx].compile(loss='binary_crossentropy',\n",
    "                         optimizer='adam',\n",
    "                         metrics=['accuracy'])\n",
    "\n",
    "            model[idx].fit(X, y, batch_size=4, epochs=5, validation_split = 0.2) # appropriate batch size depends on size of data set\n",
    "            idx+=1"
   ]
  },
  {
   "cell_type": "code",
   "execution_count": 6,
   "metadata": {
    "pycharm": {
     "name": "#%%\n"
    }
   },
   "outputs": [
    {
     "name": "stderr",
     "output_type": "stream",
     "text": [
      "WARNING:absl:Found untraced functions such as _jit_compiled_convolution_op, _jit_compiled_convolution_op, _jit_compiled_convolution_op, _jit_compiled_convolution_op, _jit_compiled_convolution_op while saving (showing 5 of 5). These functions will not be directly callable after loading.\n"
     ]
    },
    {
     "name": "stdout",
     "output_type": "stream",
     "text": [
      "INFO:tensorflow:Assets written to: drowsinessEyeCnn.model/assets\n"
     ]
    },
    {
     "name": "stderr",
     "output_type": "stream",
     "text": [
      "INFO:tensorflow:Assets written to: drowsinessEyeCnn.model/assets\n"
     ]
    }
   ],
   "source": [
    "# save model\n",
    "model[3].save('drowsinessEyeCnn.model')"
   ]
  }
 ],
 "metadata": {
  "kernelspec": {
   "display_name": "Python 3 (ipykernel)",
   "language": "python",
   "name": "python3"
  },
  "language_info": {
   "codemirror_mode": {
    "name": "ipython",
    "version": 3
   },
   "file_extension": ".py",
   "mimetype": "text/x-python",
   "name": "python",
   "nbconvert_exporter": "python",
   "pygments_lexer": "ipython3",
   "version": "3.9.13"
  }
 },
 "nbformat": 4,
 "nbformat_minor": 2
}